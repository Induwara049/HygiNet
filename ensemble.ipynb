{
 "cells": [
  {
   "cell_type": "code",
   "execution_count": null,
   "id": "d980eefc",
   "metadata": {},
   "outputs": [],
   "source": [
    "import torch\n",
    "import torch.nn as nn\n",
    "from torchvision import models, transforms\n",
    "from PIL import Image\n",
    "from efficientnet_pytorch import EfficientNet\n",
    "import os\n",
    "import numpy as np\n",
    "import pandas as pd\n",
    "from sklearn.metrics import classification_report, confusion_matrix\n",
    "import seaborn as sns\n",
    "import matplotlib.pyplot as plt"
   ]
  },
  {
   "cell_type": "markdown",
   "id": "76f4e573",
   "metadata": {},
   "source": [
    "### Device and Transforms"
   ]
  },
  {
   "cell_type": "code",
   "execution_count": null,
   "id": "04940c64",
   "metadata": {},
   "outputs": [],
   "source": [
    "device = torch.device(\"cuda\" if torch.cuda.is_available() else \"cpu\")\n",
    "\n",
    "transform = transforms.Compose([\n",
    "    transforms.Resize((224, 224)),\n",
    "    transforms.ToTensor(),\n",
    "    transforms.Normalize(mean=[0.485, 0.456, 0.406], \n",
    "                         std=[0.229, 0.224, 0.225])\n",
    "])"
   ]
  },
  {
   "cell_type": "markdown",
   "id": "2e48ecca",
   "metadata": {},
   "source": [
    "### Load ResNet18"
   ]
  },
  {
   "cell_type": "code",
   "execution_count": null,
   "id": "fa13d8a8",
   "metadata": {},
   "outputs": [],
   "source": [
    "resnet = models.resnet18(pretrained=False)\n",
    "resnet.fc = nn.Sequential(\n",
    "    nn.Linear(512, 128),\n",
    "    nn.ReLU(),\n",
    "    nn.Dropout(0.4),\n",
    "    nn.Linear(128, 2)\n",
    ")\n",
    "resnet.load_state_dict(torch.load(\"resnet_facial_hair_binary.pt\"))\n",
    "resnet.to(device).eval()"
   ]
  },
  {
   "cell_type": "markdown",
   "id": "b74f1f4d",
   "metadata": {},
   "source": [
    "### Load EfficientNet-B0"
   ]
  },
  {
   "cell_type": "code",
   "execution_count": null,
   "id": "d52dc399",
   "metadata": {},
   "outputs": [],
   "source": [
    "effnet = EfficientNet.from_name('efficientnet-b0')\n",
    "effnet._fc = nn.Linear(effnet._fc.in_features, 2)\n",
    "effnet.load_state_dict(torch.load(\"efficientnet_facial.pt\"))\n",
    "effnet.to(device).eval()"
   ]
  },
  {
   "cell_type": "markdown",
   "id": "74d031c4",
   "metadata": {},
   "source": [
    "### Ensemble Prediction Function"
   ]
  },
  {
   "cell_type": "code",
   "execution_count": null,
   "id": "4f7d1e10",
   "metadata": {},
   "outputs": [],
   "source": [
    "def predict_ensemble(img_path, alpha=0.4):\n",
    "    img = Image.open(img_path).convert(\"RGB\")\n",
    "    img_tensor = transform(img).unsqueeze(0).to(device)\n",
    "\n",
    "    with torch.no_grad():\n",
    "        resnet_out = torch.softmax(resnet(img_tensor), dim=1)\n",
    "        effnet_out = torch.softmax(effnet(img_tensor), dim=1)\n",
    "\n",
    "        # Weighted soft voting\n",
    "        combined = (1 - alpha) * resnet_out + alpha * effnet_out\n",
    "        _, pred = torch.max(combined, 1)\n",
    "        return pred.item(), resnet_out.cpu().numpy(), effnet_out.cpu().numpy(), combined.cpu().numpy()"
   ]
  },
  {
   "cell_type": "markdown",
   "id": "eeef09a2",
   "metadata": {},
   "source": [
    "### Run Ensemble on Test Set"
   ]
  },
  {
   "cell_type": "code",
   "execution_count": null,
   "id": "16e77124",
   "metadata": {},
   "outputs": [],
   "source": [
    "test_dir = \"processed_dataset/Test\"\n",
    "classes = [\"No Beard\", \"Beard\"]\n",
    "\n",
    "results = []\n",
    "for label in classes:\n",
    "    label_dir = os.path.join(test_dir, label)\n",
    "    true_label = 0 if label == \"No Beard\" else 1\n",
    "    for fname in os.listdir(label_dir):\n",
    "        fpath = os.path.join(label_dir, fname)\n",
    "        pred, resnet_probs, effnet_probs, ensemble_probs = predict_ensemble(fpath, alpha=0.6)\n",
    "\n",
    "        results.append({\n",
    "            \"filename\": fname,\n",
    "            \"true_label\": true_label,\n",
    "            \"resnet_pred\": int(np.argmax(resnet_probs)),\n",
    "            \"effnet_pred\": int(np.argmax(effnet_probs)),\n",
    "            \"ensemble_pred\": pred,\n",
    "            \"ensemble_conf_beard\": float(ensemble_probs[0][1])\n",
    "        })"
   ]
  },
  {
   "cell_type": "markdown",
   "id": "dfd2d2fe",
   "metadata": {},
   "source": [
    "### Save and Analyze"
   ]
  },
  {
   "cell_type": "code",
   "execution_count": null,
   "id": "d75889ec",
   "metadata": {},
   "outputs": [],
   "source": [
    "results_df = pd.DataFrame(results)\n",
    "results_df.to_csv(\"ensemble_predictions.csv\", index=False)\n",
    "print(\"Saved results to ensemble_predictions.csv\")"
   ]
  },
  {
   "cell_type": "markdown",
   "id": "191611eb",
   "metadata": {},
   "source": [
    "### Evaluation"
   ]
  },
  {
   "cell_type": "code",
   "execution_count": null,
   "id": "5c918317",
   "metadata": {},
   "outputs": [],
   "source": [
    "from sklearn.metrics import accuracy_score\n",
    "\n",
    "print(\"\\nClassification Report - Ensemble\")\n",
    "print(classification_report(results_df.true_label, results_df.ensemble_pred, target_names=classes))\n",
    "\n",
    "cm = confusion_matrix(results_df.true_label, results_df.ensemble_pred)\n",
    "sns.heatmap(cm, annot=True, fmt='d', cmap='Blues', xticklabels=classes, yticklabels=classes)\n",
    "plt.title(\"Ensemble Confusion Matrix\")\n",
    "plt.xlabel(\"Predicted\")\n",
    "plt.ylabel(\"Actual\")\n",
    "plt.show()"
   ]
  }
 ],
 "metadata": {
  "kernelspec": {
   "display_name": "mv",
   "language": "python",
   "name": "python3"
  },
  "language_info": {
   "name": "python",
   "version": "3.9.21"
  }
 },
 "nbformat": 4,
 "nbformat_minor": 5
}
