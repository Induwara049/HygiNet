{
 "cells": [
  {
   "cell_type": "code",
   "execution_count": null,
   "id": "c607ba4b",
   "metadata": {},
   "outputs": [],
   "source": [
    "import cv2\n",
    "import torch\n",
    "import torch.nn as nn\n",
    "from torchvision import models, transforms\n",
    "from efficientnet_pytorch import EfficientNet\n",
    "from ultralytics import YOLO\n",
    "from PIL import Image\n",
    "import numpy as np\n"
   ]
  },
  {
   "cell_type": "markdown",
   "id": "50273baa",
   "metadata": {},
   "source": [
    "### Device and Transforms"
   ]
  },
  {
   "cell_type": "code",
   "execution_count": null,
   "id": "4b9a2200",
   "metadata": {},
   "outputs": [],
   "source": [
    "device = torch.device(\"cuda\" if torch.cuda.is_available() else \"cpu\")\n",
    "\n",
    "transform = transforms.Compose([\n",
    "    transforms.Resize((224, 224)),\n",
    "    transforms.ToTensor(),\n",
    "    transforms.Normalize(mean=[0.485, 0.456, 0.406], \n",
    "                         std=[0.229, 0.224, 0.225])\n",
    "])"
   ]
  },
  {
   "cell_type": "markdown",
   "id": "90b009b0",
   "metadata": {},
   "source": [
    "### Load Models"
   ]
  },
  {
   "cell_type": "code",
   "execution_count": null,
   "id": "614c276a",
   "metadata": {},
   "outputs": [],
   "source": [
    "resnet = models.resnet18(pretrained=False)\n",
    "resnet.fc = nn.Sequential(\n",
    "    nn.Linear(512, 128),\n",
    "    nn.ReLU(),\n",
    "    nn.Dropout(0.4),\n",
    "    nn.Linear(128, 2)\n",
    ")\n",
    "resnet.load_state_dict(torch.load(\"resnet_facial_hair_binary.pt\"))\n",
    "resnet.to(device).eval()\n",
    "\n",
    "effnet = EfficientNet.from_name('efficientnet-b0')\n",
    "effnet._fc = nn.Linear(effnet._fc.in_features, 2)\n",
    "effnet.load_state_dict(torch.load(\"efficientnet_facial.pt\"))\n",
    "effnet.to(device).eval()\n",
    "\n",
    "yolo_model = YOLO(\"best_hairnet.pt\")"
   ]
  },
  {
   "cell_type": "markdown",
   "id": "a3c54b31",
   "metadata": {},
   "source": [
    "### Prediction Functions"
   ]
  },
  {
   "cell_type": "code",
   "execution_count": null,
   "id": "dd6b0358",
   "metadata": {},
   "outputs": [],
   "source": [
    "def predict_facial_hair(img, alpha=0.6):\n",
    "    img_tensor = transform(img).unsqueeze(0).to(device)\n",
    "    with torch.no_grad():\n",
    "        r_out = torch.softmax(resnet(img_tensor), dim=1)\n",
    "        e_out = torch.softmax(effnet(img_tensor), dim=1)\n",
    "        combined = (1 - alpha) * r_out + alpha * e_out\n",
    "        _, pred = torch.max(combined, 1)\n",
    "    return pred.item()  # 0 = No Beard, 1 = Beard\n",
    "\n",
    "def detect_hairnet_from_np(img_np):\n",
    "    img_bgr = cv2.cvtColor(img_np, cv2.COLOR_RGB2BGR)\n",
    "    results = yolo_model.predict(img_bgr, conf=0.25, save=False, verbose=False)\n",
    "    names = yolo_model.names\n",
    "    detections = results[0].boxes.cls.cpu().numpy() if results[0].boxes else []\n",
    "    detected_classes = [names[int(cls)] for cls in detections]\n",
    "    return 'hairnet' in detected_classes"
   ]
  },
  {
   "cell_type": "markdown",
   "id": "8526196e",
   "metadata": {},
   "source": [
    "### Webcam Compliance Checker"
   ]
  },
  {
   "cell_type": "code",
   "execution_count": null,
   "id": "ce3214cd",
   "metadata": {},
   "outputs": [],
   "source": [
    "cap = cv2.VideoCapture(0)\n",
    "font = cv2.FONT_HERSHEY_SIMPLEX\n",
    "\n",
    "print(\"Press 'q' to quit.\")\n",
    "\n",
    "while True:\n",
    "    ret, frame = cap.read()\n",
    "    if not ret:\n",
    "        break\n",
    "\n",
    "    # Convert to PIL Image\n",
    "    img_rgb = cv2.cvtColor(frame, cv2.COLOR_BGR2RGB)\n",
    "    img_pil = Image.fromarray(img_rgb)\n",
    "\n",
    "    # Predictions\n",
    "    beard = predict_facial_hair(img_pil) == 1\n",
    "    hairnet = detect_hairnet_from_np(img_rgb)\n",
    "    compliant = not beard and hairnet\n",
    "\n",
    "    # Message\n",
    "    beard_text = \"Beard: Yes\" if beard else \"Beard: No\"\n",
    "    hairnet_text = \"Hairnet: Yes\" if hairnet else \"Hairnet: No\"\n",
    "    final_status = \"COMPLIANT\" if compliant else \"NON-COMPLIANT\"\n",
    "\n",
    "    # Draw overlay\n",
    "    overlay = frame.copy()\n",
    "    cv2.putText(overlay, beard_text, (10, 30), font, 0.8, (0, 255, 255), 2)\n",
    "    cv2.putText(overlay, hairnet_text, (10, 60), font, 0.8, (0, 255, 255), 2)\n",
    "    cv2.putText(overlay, final_status, (10, 100), font, 1.0, (0, 0, 255) if not compliant else (0, 255, 0), 3)\n",
    "\n",
    "    # Display\n",
    "    cv2.imshow('Hygiene Compliance Checker', overlay)\n",
    "    if cv2.waitKey(1) & 0xFF == ord('q'):\n",
    "        break\n",
    "\n",
    "cap.release()\n",
    "cv2.destroyAllWindows()"
   ]
  }
 ],
 "metadata": {
  "kernelspec": {
   "display_name": "mv",
   "language": "python",
   "name": "python3"
  },
  "language_info": {
   "name": "python",
   "version": "3.9.21"
  }
 },
 "nbformat": 4,
 "nbformat_minor": 5
}
