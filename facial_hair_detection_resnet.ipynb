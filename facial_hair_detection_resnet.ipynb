{
 "cells": [
  {
   "cell_type": "markdown",
   "id": "1a3f8eed",
   "metadata": {},
   "source": [
    "### PyTorch Dataset Loader with Augmentations"
   ]
  },
  {
   "cell_type": "code",
   "execution_count": 1,
   "id": "0592560f",
   "metadata": {},
   "outputs": [
    {
     "name": "stdout",
     "output_type": "stream",
     "text": [
      "Class to index mapping: {'Beard': 0, 'No Beard': 1}\n"
     ]
    }
   ],
   "source": [
    "from torchvision.datasets import ImageFolder\n",
    "from torch.utils.data import DataLoader\n",
    "import torchvision.transforms as T\n",
    "import os\n",
    "\n",
    "# Image size for ResNet\n",
    "IMAGE_SIZE = 224\n",
    "\n",
    "# Define transform pipeline\n",
    "train_transform = T.Compose([\n",
    "    T.Resize((IMAGE_SIZE, IMAGE_SIZE)),\n",
    "    T.RandomHorizontalFlip(),\n",
    "    T.RandomRotation(15),\n",
    "    T.ColorJitter(brightness=0.2, contrast=0.2),\n",
    "    T.ToTensor(),\n",
    "    T.Normalize(mean=[0.485, 0.456, 0.406], std=[0.229, 0.224, 0.225])  # ResNet standard\n",
    "])\n",
    "\n",
    "val_test_transform = T.Compose([\n",
    "    T.Resize((IMAGE_SIZE, IMAGE_SIZE)),\n",
    "    T.ToTensor(),\n",
    "    T.Normalize(mean=[0.485, 0.456, 0.406], std=[0.229, 0.224, 0.225])\n",
    "])\n",
    "\n",
    "# Paths\n",
    "data_path = \"dataset/facial hair\"\n",
    "batch_size = 32\n",
    "\n",
    "# Datasets\n",
    "train_ds = ImageFolder(root=os.path.join(data_path, 'Train'), transform=train_transform)\n",
    "val_ds = ImageFolder(root=os.path.join(data_path, 'Validate'), transform=val_test_transform)\n",
    "test_ds = ImageFolder(root=os.path.join(data_path, 'Test'), transform=val_test_transform)\n",
    "\n",
    "# DataLoaders\n",
    "train_loader = DataLoader(train_ds, batch_size=batch_size, shuffle=True)\n",
    "val_loader = DataLoader(val_ds, batch_size=batch_size, shuffle=False)\n",
    "test_loader = DataLoader(test_ds, batch_size=batch_size, shuffle=False)\n",
    "\n",
    "# Class labels\n",
    "print(\"Class to index mapping:\", train_ds.class_to_idx)\n"
   ]
  },
  {
   "cell_type": "markdown",
   "id": "d3d4edea",
   "metadata": {},
   "source": [
    "### Load & Modify ResNet18"
   ]
  },
  {
   "cell_type": "code",
   "execution_count": 2,
   "id": "da615c6f",
   "metadata": {},
   "outputs": [
    {
     "name": "stderr",
     "output_type": "stream",
     "text": [
      "c:\\anaconda\\envs\\mv\\lib\\site-packages\\torchvision\\models\\_utils.py:208: UserWarning: The parameter 'pretrained' is deprecated since 0.13 and may be removed in the future, please use 'weights' instead.\n",
      "  warnings.warn(\n",
      "c:\\anaconda\\envs\\mv\\lib\\site-packages\\torchvision\\models\\_utils.py:223: UserWarning: Arguments other than a weight enum or `None` for 'weights' are deprecated since 0.13 and may be removed in the future. The current behavior is equivalent to passing `weights=ResNet18_Weights.IMAGENET1K_V1`. You can also use `weights=ResNet18_Weights.DEFAULT` to get the most up-to-date weights.\n",
      "  warnings.warn(msg)\n"
     ]
    },
    {
     "name": "stdout",
     "output_type": "stream",
     "text": [
      "ResNet(\n",
      "  (conv1): Conv2d(3, 64, kernel_size=(7, 7), stride=(2, 2), padding=(3, 3), bias=False)\n",
      "  (bn1): BatchNorm2d(64, eps=1e-05, momentum=0.1, affine=True, track_running_stats=True)\n",
      "  (relu): ReLU(inplace=True)\n",
      "  (maxpool): MaxPool2d(kernel_size=3, stride=2, padding=1, dilation=1, ceil_mode=False)\n",
      "  (layer1): Sequential(\n",
      "    (0): BasicBlock(\n",
      "      (conv1): Conv2d(64, 64, kernel_size=(3, 3), stride=(1, 1), padding=(1, 1), bias=False)\n",
      "      (bn1): BatchNorm2d(64, eps=1e-05, momentum=0.1, affine=True, track_running_stats=True)\n",
      "      (relu): ReLU(inplace=True)\n",
      "      (conv2): Conv2d(64, 64, kernel_size=(3, 3), stride=(1, 1), padding=(1, 1), bias=False)\n",
      "      (bn2): BatchNorm2d(64, eps=1e-05, momentum=0.1, affine=True, track_running_stats=True)\n",
      "    )\n",
      "    (1): BasicBlock(\n",
      "      (conv1): Conv2d(64, 64, kernel_size=(3, 3), stride=(1, 1), padding=(1, 1), bias=False)\n",
      "      (bn1): BatchNorm2d(64, eps=1e-05, momentum=0.1, affine=True, track_running_stats=True)\n",
      "      (relu): ReLU(inplace=True)\n",
      "      (conv2): Conv2d(64, 64, kernel_size=(3, 3), stride=(1, 1), padding=(1, 1), bias=False)\n",
      "      (bn2): BatchNorm2d(64, eps=1e-05, momentum=0.1, affine=True, track_running_stats=True)\n",
      "    )\n",
      "  )\n",
      "  (layer2): Sequential(\n",
      "    (0): BasicBlock(\n",
      "      (conv1): Conv2d(64, 128, kernel_size=(3, 3), stride=(2, 2), padding=(1, 1), bias=False)\n",
      "      (bn1): BatchNorm2d(128, eps=1e-05, momentum=0.1, affine=True, track_running_stats=True)\n",
      "      (relu): ReLU(inplace=True)\n",
      "      (conv2): Conv2d(128, 128, kernel_size=(3, 3), stride=(1, 1), padding=(1, 1), bias=False)\n",
      "      (bn2): BatchNorm2d(128, eps=1e-05, momentum=0.1, affine=True, track_running_stats=True)\n",
      "      (downsample): Sequential(\n",
      "        (0): Conv2d(64, 128, kernel_size=(1, 1), stride=(2, 2), bias=False)\n",
      "        (1): BatchNorm2d(128, eps=1e-05, momentum=0.1, affine=True, track_running_stats=True)\n",
      "      )\n",
      "    )\n",
      "    (1): BasicBlock(\n",
      "      (conv1): Conv2d(128, 128, kernel_size=(3, 3), stride=(1, 1), padding=(1, 1), bias=False)\n",
      "      (bn1): BatchNorm2d(128, eps=1e-05, momentum=0.1, affine=True, track_running_stats=True)\n",
      "      (relu): ReLU(inplace=True)\n",
      "      (conv2): Conv2d(128, 128, kernel_size=(3, 3), stride=(1, 1), padding=(1, 1), bias=False)\n",
      "      (bn2): BatchNorm2d(128, eps=1e-05, momentum=0.1, affine=True, track_running_stats=True)\n",
      "    )\n",
      "  )\n",
      "  (layer3): Sequential(\n",
      "    (0): BasicBlock(\n",
      "      (conv1): Conv2d(128, 256, kernel_size=(3, 3), stride=(2, 2), padding=(1, 1), bias=False)\n",
      "      (bn1): BatchNorm2d(256, eps=1e-05, momentum=0.1, affine=True, track_running_stats=True)\n",
      "      (relu): ReLU(inplace=True)\n",
      "      (conv2): Conv2d(256, 256, kernel_size=(3, 3), stride=(1, 1), padding=(1, 1), bias=False)\n",
      "      (bn2): BatchNorm2d(256, eps=1e-05, momentum=0.1, affine=True, track_running_stats=True)\n",
      "      (downsample): Sequential(\n",
      "        (0): Conv2d(128, 256, kernel_size=(1, 1), stride=(2, 2), bias=False)\n",
      "        (1): BatchNorm2d(256, eps=1e-05, momentum=0.1, affine=True, track_running_stats=True)\n",
      "      )\n",
      "    )\n",
      "    (1): BasicBlock(\n",
      "      (conv1): Conv2d(256, 256, kernel_size=(3, 3), stride=(1, 1), padding=(1, 1), bias=False)\n",
      "      (bn1): BatchNorm2d(256, eps=1e-05, momentum=0.1, affine=True, track_running_stats=True)\n",
      "      (relu): ReLU(inplace=True)\n",
      "      (conv2): Conv2d(256, 256, kernel_size=(3, 3), stride=(1, 1), padding=(1, 1), bias=False)\n",
      "      (bn2): BatchNorm2d(256, eps=1e-05, momentum=0.1, affine=True, track_running_stats=True)\n",
      "    )\n",
      "  )\n",
      "  (layer4): Sequential(\n",
      "    (0): BasicBlock(\n",
      "      (conv1): Conv2d(256, 512, kernel_size=(3, 3), stride=(2, 2), padding=(1, 1), bias=False)\n",
      "      (bn1): BatchNorm2d(512, eps=1e-05, momentum=0.1, affine=True, track_running_stats=True)\n",
      "      (relu): ReLU(inplace=True)\n",
      "      (conv2): Conv2d(512, 512, kernel_size=(3, 3), stride=(1, 1), padding=(1, 1), bias=False)\n",
      "      (bn2): BatchNorm2d(512, eps=1e-05, momentum=0.1, affine=True, track_running_stats=True)\n",
      "      (downsample): Sequential(\n",
      "        (0): Conv2d(256, 512, kernel_size=(1, 1), stride=(2, 2), bias=False)\n",
      "        (1): BatchNorm2d(512, eps=1e-05, momentum=0.1, affine=True, track_running_stats=True)\n",
      "      )\n",
      "    )\n",
      "    (1): BasicBlock(\n",
      "      (conv1): Conv2d(512, 512, kernel_size=(3, 3), stride=(1, 1), padding=(1, 1), bias=False)\n",
      "      (bn1): BatchNorm2d(512, eps=1e-05, momentum=0.1, affine=True, track_running_stats=True)\n",
      "      (relu): ReLU(inplace=True)\n",
      "      (conv2): Conv2d(512, 512, kernel_size=(3, 3), stride=(1, 1), padding=(1, 1), bias=False)\n",
      "      (bn2): BatchNorm2d(512, eps=1e-05, momentum=0.1, affine=True, track_running_stats=True)\n",
      "    )\n",
      "  )\n",
      "  (avgpool): AdaptiveAvgPool2d(output_size=(1, 1))\n",
      "  (fc): Sequential(\n",
      "    (0): Linear(in_features=512, out_features=128, bias=True)\n",
      "    (1): ReLU()\n",
      "    (2): Dropout(p=0.4, inplace=False)\n",
      "    (3): Linear(in_features=128, out_features=2, bias=True)\n",
      "  )\n",
      ")\n"
     ]
    }
   ],
   "source": [
    "import torch\n",
    "import torch.nn as nn\n",
    "from torchvision import models\n",
    "\n",
    "# Load pre-trained ResNet18\n",
    "model = models.resnet18(pretrained=True)\n",
    "\n",
    "# Freeze all layers\n",
    "for param in model.parameters():\n",
    "    param.requires_grad = False\n",
    "\n",
    "# Unfreeze only the final layer\n",
    "num_ftrs = model.fc.in_features\n",
    "model.fc = nn.Sequential(\n",
    "    nn.Linear(num_ftrs, 128),\n",
    "    nn.ReLU(),\n",
    "    nn.Dropout(0.4),\n",
    "    nn.Linear(128, 2)  # Binary output\n",
    ")\n",
    "\n",
    "# Move to GPU if available\n",
    "device = torch.device(\"cuda\" if torch.cuda.is_available() else \"cpu\")\n",
    "model = model.to(device)\n",
    "\n",
    "# Confirm architecture\n",
    "print(model)\n"
   ]
  },
  {
   "cell_type": "markdown",
   "id": "b7be5133",
   "metadata": {},
   "source": [
    "### Dataset Wrapper for Label Remapping"
   ]
  },
  {
   "cell_type": "code",
   "execution_count": 3,
   "id": "46e986a4",
   "metadata": {},
   "outputs": [],
   "source": [
    "from torch.utils.data import Dataset\n",
    "import random\n",
    "\n",
    "class BinaryFacialHairDataset(Dataset):\n",
    "    def __init__(self, base_dataset, original_class_map):\n",
    "        self.base_dataset = base_dataset\n",
    "        self.original_class_map = original_class_map\n",
    "\n",
    "    def __len__(self):\n",
    "        return len(self.base_dataset)\n",
    "\n",
    "    def __getitem__(self, idx):\n",
    "        image, label = self.base_dataset[idx]\n",
    "        # Map Beard -> 1, No Beard -> 0\n",
    "        new_label = 1 if label == self.original_class_map['Beard'] else 0\n",
    "        return image, new_label\n"
   ]
  },
  {
   "cell_type": "markdown",
   "id": "84ca5f27",
   "metadata": {},
   "source": [
    "#### Applying Wrapper"
   ]
  },
  {
   "cell_type": "code",
   "execution_count": 4,
   "id": "c90172e3",
   "metadata": {},
   "outputs": [],
   "source": [
    "# # Map: {'Beard': 0, 'No Beard': 1}\n",
    "# original_class_map = train_ds.class_to_idx\n",
    "\n",
    "# Wrap datasets\n",
    "train_ds_remap = BinaryFacialHairDataset(train_ds, train_ds.class_to_idx)\n",
    "val_ds_remap   = BinaryFacialHairDataset(val_ds, val_ds.class_to_idx)\n",
    "test_ds_remap  = BinaryFacialHairDataset(test_ds, test_ds.class_to_idx)\n",
    "\n",
    "# New loaders\n",
    "train_loader = DataLoader(train_ds_remap, batch_size=batch_size, shuffle=True)\n",
    "val_loader   = DataLoader(val_ds_remap, batch_size=batch_size, shuffle=False)\n",
    "test_loader  = DataLoader(test_ds_remap, batch_size=batch_size, shuffle=False)\n"
   ]
  },
  {
   "cell_type": "markdown",
   "id": "14ed9511",
   "metadata": {},
   "source": [
    "### Training Loop"
   ]
  },
  {
   "cell_type": "code",
   "execution_count": 5,
   "id": "92345e28",
   "metadata": {},
   "outputs": [
    {
     "name": "stdout",
     "output_type": "stream",
     "text": [
      "Epoch 1: Loss = 13.6288, Accuracy = 60.84%\n",
      "Epoch 2: Loss = 13.0703, Accuracy = 67.24%\n",
      "Epoch 3: Loss = 12.5241, Accuracy = 72.54%\n",
      "Epoch 4: Loss = 11.6448, Accuracy = 73.32%\n",
      "Epoch 5: Loss = 10.6477, Accuracy = 75.82%\n",
      "Epoch 6: Loss = 10.0448, Accuracy = 78.63%\n",
      "Epoch 7: Loss = 11.3749, Accuracy = 73.79%\n",
      "Epoch 8: Loss = 8.9803, Accuracy = 81.44%\n",
      "Epoch 9: Loss = 8.4871, Accuracy = 82.22%\n",
      "Epoch 10: Loss = 9.5045, Accuracy = 81.28%\n",
      "Epoch 11: Loss = 10.3866, Accuracy = 76.76%\n",
      "Epoch 12: Loss = 7.6510, Accuracy = 85.34%\n",
      "Epoch 13: Loss = 8.2894, Accuracy = 83.00%\n",
      "Epoch 14: Loss = 9.5031, Accuracy = 80.66%\n",
      "Epoch 15: Loss = 8.5575, Accuracy = 83.31%\n",
      "Epoch 16: Loss = 9.5465, Accuracy = 82.06%\n",
      "Epoch 17: Loss = 6.6764, Accuracy = 87.68%\n",
      "Epoch 18: Loss = 6.9252, Accuracy = 85.96%\n",
      "Epoch 19: Loss = 6.2124, Accuracy = 89.55%\n",
      "Epoch 20: Loss = 6.6213, Accuracy = 86.74%\n",
      "Epoch 21: Loss = 6.4838, Accuracy = 87.21%\n",
      "Epoch 22: Loss = 7.3048, Accuracy = 85.80%\n",
      "Epoch 23: Loss = 7.0519, Accuracy = 86.74%\n",
      "Epoch 24: Loss = 7.3726, Accuracy = 88.14%\n",
      "Epoch 25: Loss = 7.2421, Accuracy = 84.87%\n",
      "Epoch 26: Loss = 9.0155, Accuracy = 85.49%\n",
      "Epoch 27: Loss = 9.2294, Accuracy = 85.18%\n",
      "Epoch 28: Loss = 8.0339, Accuracy = 82.06%\n",
      "Epoch 29: Loss = 7.3474, Accuracy = 84.71%\n",
      "Epoch 30: Loss = 8.3834, Accuracy = 85.02%\n",
      "Epoch 31: Loss = 6.9456, Accuracy = 87.05%\n",
      "Epoch 32: Loss = 6.1422, Accuracy = 89.39%\n",
      "Epoch 33: Loss = 6.2579, Accuracy = 86.74%\n",
      "Epoch 34: Loss = 5.8646, Accuracy = 86.12%\n",
      "Epoch 35: Loss = 6.1864, Accuracy = 88.14%\n",
      "Epoch 36: Loss = 6.2069, Accuracy = 87.36%\n",
      "Epoch 37: Loss = 8.4421, Accuracy = 83.62%\n",
      "Epoch 38: Loss = 8.6310, Accuracy = 85.65%\n",
      "Epoch 39: Loss = 7.6973, Accuracy = 81.28%\n",
      "Epoch 40: Loss = 7.9082, Accuracy = 87.83%\n"
     ]
    }
   ],
   "source": [
    "import torch.optim as optim\n",
    "from torch.nn import CrossEntropyLoss\n",
    "\n",
    "criterion = CrossEntropyLoss()\n",
    "optimizer = optim.Adam(model.parameters(), lr=0.001)\n",
    "num_epochs = 40\n",
    "\n",
    "for epoch in range(num_epochs):\n",
    "    model.train()\n",
    "    running_loss = 0.0\n",
    "    correct, total = 0, 0\n",
    "    \n",
    "    for images, labels in train_loader:\n",
    "        images, labels = images.to(device), labels.to(device)\n",
    "        \n",
    "        optimizer.zero_grad()\n",
    "        outputs = model(images)\n",
    "        loss = criterion(outputs, labels)\n",
    "        loss.backward()\n",
    "        optimizer.step()\n",
    "        \n",
    "        running_loss += loss.item()\n",
    "        _, predicted = torch.max(outputs, 1)\n",
    "        total += labels.size(0)\n",
    "        correct += (predicted == labels).sum().item()\n",
    "    \n",
    "    acc = 100 * correct / total\n",
    "    print(f\"Epoch {epoch+1}: Loss = {running_loss:.4f}, Accuracy = {acc:.2f}%\")\n"
   ]
  },
  {
   "cell_type": "markdown",
   "id": "62b2c8e2",
   "metadata": {},
   "source": [
    "### Evaluatoin"
   ]
  },
  {
   "cell_type": "code",
   "execution_count": 6,
   "id": "698a2a54",
   "metadata": {},
   "outputs": [],
   "source": [
    "import matplotlib.pyplot as plt\n",
    "import seaborn as sns\n",
    "from sklearn.metrics import classification_report, confusion_matrix\n",
    "import numpy as np\n",
    "\n",
    "\n",
    "def evaluate_model(model, loader, title=\"Validation\"):\n",
    "    model.eval()\n",
    "    y_true = []\n",
    "    y_pred = []\n",
    "\n",
    "    with torch.no_grad():\n",
    "        for images, labels in loader:\n",
    "            images, labels = images.to(device), labels.to(device)\n",
    "            outputs = model(images)\n",
    "            _, predicted = torch.max(outputs, 1)\n",
    "            y_true.extend(labels.cpu().numpy())\n",
    "            y_pred.extend(predicted.cpu().numpy())\n",
    "\n",
    "    print(f\"\\nEvaluation on {title} Set\")\n",
    "    print(classification_report(y_true, y_pred, target_names=[\"No Beard\", \"Beard\"]))\n",
    "\n",
    "    cm = confusion_matrix(y_true, y_pred)\n",
    "    sns.heatmap(cm, annot=True, fmt='d', cmap='Blues',\n",
    "                xticklabels=[\"No Beard\", \"Beard\"],\n",
    "                yticklabels=[\"No Beard\", \"Beard\"])\n",
    "    plt.title(f\"Confusion Matrix - {title}\")\n",
    "    plt.xlabel(\"Predicted\")\n",
    "    plt.ylabel(\"Actual\")\n",
    "    plt.show()\n"
   ]
  },
  {
   "cell_type": "code",
   "execution_count": 7,
   "id": "220504da",
   "metadata": {},
   "outputs": [
    {
     "name": "stdout",
     "output_type": "stream",
     "text": [
      "\n",
      "Evaluation on Validation Set\n",
      "              precision    recall  f1-score   support\n",
      "\n",
      "    No Beard       0.71      1.00      0.83         5\n",
      "       Beard       1.00      0.60      0.75         5\n",
      "\n",
      "    accuracy                           0.80        10\n",
      "   macro avg       0.86      0.80      0.79        10\n",
      "weighted avg       0.86      0.80      0.79        10\n",
      "\n"
     ]
    },
    {
     "data": {
      "image/png": "[encoded data removed]",
      "text/plain": [
       "<Figure size 640x480 with 2 Axes>"
      ]
     },
     "metadata": {},
     "output_type": "display_data"
    },
    {
     "name": "stdout",
     "output_type": "stream",
     "text": [
      "\n",
      "Evaluation on Test Set\n",
      "              precision    recall  f1-score   support\n",
      "\n",
      "    No Beard       0.75      0.90      0.82        10\n",
      "       Beard       0.88      0.70      0.78        10\n",
      "\n",
      "    accuracy                           0.80        20\n",
      "   macro avg       0.81      0.80      0.80        20\n",
      "weighted avg       0.81      0.80      0.80        20\n",
      "\n"
     ]
    },
    {
     "data": {
      "image/png": "[encoded data removed]",
      "text/plain": [
       "<Figure size 640x480 with 2 Axes>"
      ]
     },
     "metadata": {},
     "output_type": "display_data"
    }
   ],
   "source": [
    "evaluate_model(model, val_loader, title=\"Validation\")\n",
    "evaluate_model(model, test_loader, title=\"Test\")\n"
   ]
  },
  {
   "cell_type": "code",
   "execution_count": 9,
   "id": "1db55a32",
   "metadata": {},
   "outputs": [
    {
     "name": "stdout",
     "output_type": "stream",
     "text": [
      "Model saved as 'resnet_facial_hair_binary.pt'\n"
     ]
    }
   ],
   "source": [
    "torch.save(model.state_dict(), \"resnet_facial_hair_binary.pt\")\n",
    "print(\"Model saved as 'resnet_facial_hair_binary.pt'\")\n"
   ]
  }
 ],
 "metadata": {
  "kernelspec": {
   "display_name": "mv",
   "language": "python",
   "name": "python3"
  },
  "language_info": {
   "codemirror_mode": {
    "name": "ipython",
    "version": 3
   },
   "file_extension": ".py",
   "mimetype": "text/x-python",
   "name": "python",
   "nbconvert_exporter": "python",
   "pygments_lexer": "ipython3",
   "version": "3.9.21"
  }
 },
 "nbformat": 4,
 "nbformat_minor": 5
}
